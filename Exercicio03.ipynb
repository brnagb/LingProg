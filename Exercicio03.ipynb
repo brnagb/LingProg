{
 "cells": [
  {
   "cell_type": "markdown",
   "metadata": {},
   "source": [
    "1.Faça um Programa que peça dois números e imprima o maior deles"
   ]
  },
  {
   "cell_type": "code",
   "execution_count": 3,
   "metadata": {},
   "outputs": [
    {
     "name": "stdout",
     "output_type": "stream",
     "text": [
      "Insira um número: 10\n",
      "Insira outro número: 2\n",
      "O maior número é  10\n"
     ]
    }
   ],
   "source": [
    "n1 = int(input('Insira um número: '))\n",
    "n2 = int(input('Insira outro número: '))\n",
    "if n1 > n2:\n",
    "    print('O maior número é ', n1)\n",
    "else:\n",
    "    print('O maior número é ', n2)"
   ]
  },
  {
   "cell_type": "markdown",
   "metadata": {},
   "source": [
    "2.Faça um Programa que verifique se uma letra digitada é vogal ou consoante."
   ]
  },
  {
   "cell_type": "code",
   "execution_count": 4,
   "metadata": {},
   "outputs": [
    {
     "name": "stdout",
     "output_type": "stream",
     "text": [
      "Digite uma letra: a\n",
      "A letra a é uma vogal.\n"
     ]
    }
   ],
   "source": [
    "letra = input('Digite uma letra: ')\n",
    "if letra in ['a', 'e', 'i', 'o', 'u', 'A', 'E', 'I', 'O', 'U']:\n",
    "    print(f'A letra {letra} é uma vogal.')\n",
    "else:\n",
    "    print(f'A letra {letra} é uma consoante.')"
   ]
  },
  {
   "cell_type": "markdown",
   "metadata": {},
   "source": [
    "3.Faça um programa para a leitura de duas notas parciais de um aluno. O programa deve calcular a média alcançada por aluno e apresentar: - A mensagem \"Aprovado\", se a média alcançada for maior ou igual a sete; - A mensagem \"Reprovado\", se a média for menor do que sete; - A mensagem \"Aprovado com Distinção\", se a média for igual a dez."
   ]
  },
  {
   "cell_type": "code",
   "execution_count": 6,
   "metadata": {},
   "outputs": [
    {
     "name": "stdout",
     "output_type": "stream",
     "text": [
      "Digite a primeira nota: 5\n",
      "Digite a segunda nota: 5\n",
      "Reprovado\n"
     ]
    }
   ],
   "source": [
    "\n",
    "nota1 = float(input(\"Digite a primeira nota: \"))\n",
    "nota2 = float(input(\"Digite a segunda nota: \"))\n",
    "media = (nota1 + nota2) / 2\n",
    "if media == 10:\n",
    "    print(\"Aprovado com Distinção\")\n",
    "elif media >= 7:\n",
    "    print(\"Aprovado\")\n",
    "else:\n",
    "    print(\"Reprovado\")"
   ]
  },
  {
   "cell_type": "markdown",
   "metadata": {},
   "source": [
    "4.Faça um Programa que leia três números e mostre-os em ordem decrescente"
   ]
  },
  {
   "cell_type": "code",
   "execution_count": 10,
   "metadata": {},
   "outputs": [
    {
     "name": "stdout",
     "output_type": "stream",
     "text": [
      "Digite o 1º número: 1\n",
      "Digite o 2º número: 2\n",
      "Digite o 3º número: 3\n",
      "3\n",
      "2\n",
      "1\n"
     ]
    }
   ],
   "source": [
    "vetor = [int(input('Digite o 1º número: ')), int(input('Digite o 2º número: ')), int(input('Digite o 3º número: '))]\n",
    "vetor.sort()\n",
    "for n in reversed(vetor):\n",
    "    print(n)"
   ]
  },
  {
   "cell_type": "markdown",
   "metadata": {},
   "source": [
    "5.As Organizações Tabajara resolveram dar um aumento de salário aos seus colaboradores e lhe contrataram para desenvolver o programa que calculará os reajustes. Faça um programa que recebe o salário de um colaborador e o reajuste segundo o seguinte critério, baseado no salário atual: - salários até R$ 280,00 (incluindo) : aumento de 20% - salários entre R$ 280,00 e R$ 700,00 : aumento de 15% - salários entre R$ 700,00 e R$ 1500,00 : aumento de 10% - salários de R$ 1500,00 em diante : aumento de 5% Após o aumento ser realizado, informe na tela: - o salário antes do reajuste; - o percentual de aumento aplicado; - o valor do aumento; - o novo salário, após o aumento."
   ]
  },
  {
   "cell_type": "code",
   "execution_count": 11,
   "metadata": {},
   "outputs": [
    {
     "name": "stdout",
     "output_type": "stream",
     "text": [
      "Digite o salário 200\n",
      "O Salário Anterior era: 200.0\n",
      "Aumento de 20%\n",
      "O Aumento foi no valor de: R$ 40.0\n",
      "O Salário Atual é: 240.0\n"
     ]
    }
   ],
   "source": [
    "salario = float(input(\"Digite o salário \"))\n",
    "\n",
    "if salario <= 280.00:\n",
    "    salarioAtual = salario + (salario * 0.20)\n",
    "    aumento = \"Aumento de 20%\"\n",
    "    valor = salarioAtual - salario\n",
    "elif salario <= 700.00:\n",
    "    salarioAtual = salario + (salario * 0.15)\n",
    "    aumento = \"Aumento de 15%\"\n",
    "    valor = salarioAtual - salario\n",
    "elif salario <= 1500.00:\n",
    "    salarioAtual = salario + (salario * 0.10)\n",
    "    aumento = \"Aumento de 10%\"\n",
    "    valor = salarioAtual - salario\n",
    "elif salario > 1500.00:\n",
    "    salarioAtual = salario + (salario * 0.05)\n",
    "    aumento = \"Aumento de 5%\"\n",
    "    valor = salarioAtual - salario\n",
    "\n",
    "print(\"O Salário Anterior era:\", salario)\n",
    "print(aumento)\n",
    "print(\"O Aumento foi no valor de: R$\", valor)\n",
    "print(\"O Salário Atual é:\", salarioAtual)"
   ]
  },
  {
   "cell_type": "markdown",
   "metadata": {},
   "source": [
    "6.Faça um Programa que leia um número e exiba o dia correspondente da semana. (1-Domingo, 2- Segunda, etc.), se digitar outro valor deve aparecer valor inválido."
   ]
  },
  {
   "cell_type": "code",
   "execution_count": 12,
   "metadata": {},
   "outputs": [
    {
     "name": "stdout",
     "output_type": "stream",
     "text": [
      "Insira o número do dia: 4\n",
      "Quarta\n"
     ]
    }
   ],
   "source": [
    "numero = int(input(\"Insira o número do dia: \"))\n",
    "if numero == 1:\n",
    "    print('Domingo')\n",
    "elif numero == 2:\n",
    "    print('Segunda')\n",
    "elif numero == 3:\n",
    "    print('Terca')\n",
    "elif numero == 4:\n",
    "    print('Quarta')\n",
    "elif numero == 5:\n",
    "    print('Quinta')\n",
    "elif numero == 6:\n",
    "    print('Sexta')\n",
    "elif numero == 7:\n",
    "    print('Sabado')\n",
    "else:\n",
    "    print('Valor inválido.')"
   ]
  },
  {
   "cell_type": "markdown",
   "metadata": {},
   "source": [
    "7 - Faça um programa que lê as duas notas parciais obtidas por um aluno numa disciplina ao longo de um semestre, e calcule a sua média. A atribuição de conceitos obedece à tabela abaixo:\n",
    "\n",
    "Média de Aproveitamento Conceito\n",
    "\n",
    "Entre 9.0 e 10.0 A\n",
    "Entre 7.5 e 9.0 B\n",
    "Entre 6.0 e 7.5 C\n",
    "Entre 4.0 e 6.0 D\n",
    "Entre 4.0 e zero E\n",
    "\n",
    "O algoritmo deve mostrar na tela as notas, a média, o conceito correspondente e a mensagem “APROVADO” se o conceito for A, B ou C ou “REPROVADO” se o conceito for D ou E."
   ]
  },
  {
   "cell_type": "code",
   "execution_count": 13,
   "metadata": {},
   "outputs": [
    {
     "name": "stdout",
     "output_type": "stream",
     "text": [
      "Digite a primera nota 2\n",
      "Digite a segunda nota 3\n",
      "Nota 1 =  2.0 \n",
      "Nota 2 = 3.0 \n",
      "Média = 2.5 \n",
      " REPROVADO \n",
      " E\n"
     ]
    }
   ],
   "source": [
    "nota1 = float(input(\"Digite a primera nota \"))\n",
    "nota2 = float(input(\"Digite a segunda nota \"))\n",
    "media = (nota1 + nota2) / 2\n",
    "\n",
    "if media > 9:\n",
    "    mensagem = \"APROVADO\"\n",
    "    nota = \"A\"\n",
    "elif media > 7.5:\n",
    "    mensagem = \"APROVADO\"\n",
    "    nota = \"B\"\n",
    "elif media > 6:\n",
    "    mensagem = \"APROVADO\"\n",
    "    nota = \"C\"\n",
    "elif media > 4:\n",
    "    mensagem = \"REPROVADO\"\n",
    "    nota = \"D\"\n",
    "else:\n",
    "    mensagem = \"REPROVADO\"\n",
    "    nota = \"E\"\n",
    "    \n",
    "print(\"Nota 1 = \", nota1, \"\\nNota 2 =\", nota2, \"\\nMédia =\", media, \"\\n\", mensagem, \"\\n\", nota)"
   ]
  },
  {
   "cell_type": "markdown",
   "metadata": {},
   "source": [
    "8.Faça um Programa que peça os 3 lados de um triângulo. O programa deverá informar se os valores podem ser um triângulo. Indique, caso os lados formem um triângulo, se o mesmo é: equilátero, isósceles ou escaleno. Dicas:\n",
    "\n",
    "Três lados formam um triângulo quando a soma de quaisquer dois lados for maior que o terceiro;\n",
    "Triângulo Equilátero: três lados iguais;\n",
    "Triângulo Isósceles: quaisquer dois lados iguais;\n",
    "Triângulo Escaleno: três lados diferentes;"
   ]
  },
  {
   "cell_type": "code",
   "execution_count": 14,
   "metadata": {},
   "outputs": [
    {
     "name": "stdout",
     "output_type": "stream",
     "text": [
      "Insira o primeiro lado: 4\n",
      "Insira o segundo lado: 3\n",
      "Insira o terceiro lado: 2\n",
      "Os valores podem ser um triângulo.\n",
      "Os valores formam um triângulo escaleno.\n"
     ]
    }
   ],
   "source": [
    "l1 = float(input('Insira o primeiro lado: '))\n",
    "l2 = float(input('Insira o segundo lado: '))\n",
    "l3 = float(input('Insira o terceiro lado: '))\n",
    "\n",
    "if l1 < l2 + l3 and l2 < l1 + l3 and l3 < l1 + l2:\n",
    "    print('Os valores podem ser um triângulo.')\n",
    "    if l1 == l2 == l3:\n",
    "        print('Os valoresa formam um triângulo equilátero.')\n",
    "    elif l1 == l2 or l1 == l3 or l2 == l3:\n",
    "        print('Os valores formam um triângulo isósceles.')\n",
    "    else:\n",
    "        print('Os valores formam um triângulo escaleno.')\n",
    "else:\n",
    "    print('Os valores não podem ser um triângulo.')"
   ]
  },
  {
   "cell_type": "markdown",
   "metadata": {},
   "source": [
    "9.Faça um programa que calcule as raízes de uma equação do segundo grau, na forma ax2 + bx + c. O programa deverá pedir os valores de a, b e c e fazer as consistências, informando ao usuário nas seguintes situações:\n",
    "\n",
    "Se o usuário informar o valor de A igual a zero, a equação não é do segundo grau e o programa não deve fazer pedir os demais valores, sendo encerrado;\n",
    "Se o delta calculado for negativo, a equação não possui raizes reais. Informe ao usuário e encerre o programa;\n",
    "Se o delta calculado for igual a zero a equação possui apenas uma raiz real; informe-a ao usuário;\n",
    "Se o delta for positivo, a equação possui duas raiz reais; informe-as ao usuário;"
   ]
  },
  {
   "cell_type": "code",
   "execution_count": 16,
   "metadata": {},
   "outputs": [
    {
     "name": "stdout",
     "output_type": "stream",
     "text": [
      "Insira o A: 9\n",
      "Insira o B: 6\n",
      "Insira o C: 12\n",
      "A equação não possui raizes reais, programa encerrado\n"
     ]
    }
   ],
   "source": [
    "a = float(input('Insira o A: '))\n",
    "if a == 0:\n",
    "    print(\"Não é uma equação de segundo grau, programa encerrado.\")\n",
    "else:\n",
    "    b = float(input('Insira o B: '))\n",
    "    c = float(input('Insira o C: '))\n",
    "    delta = b**2 - 4*a*c\n",
    "    if delta < 0:\n",
    "        print(\"A equação não possui raizes reais, programa encerrado\")\n",
    "    elif delta == 0:\n",
    "        x = -b / (2*a)\n",
    "        print(\"A equação possui apenas uma raiz real:\", x)\n",
    "    else:\n",
    "        x1 = (-b + math.sqrt(delta)) / (2*a)\n",
    "        x2 = (-b - math.sqrt(delta)) / (2*a)\n",
    "        print(f\"A equação possui duas raiz reais: {x1} e {x2}\")"
   ]
  },
  {
   "cell_type": "markdown",
   "metadata": {},
   "source": [
    "10 - Faça um Programa para um caixa eletrônico. O programa deverá perguntar ao usuário a valor do saque e depois informar quantas notas de cada valor serão fornecidas. As notas disponíveis serão as de 1, 5, 10, 50 e 100 reais. O valor mínimo é de 10 reais e o máximo de 600 reais. O programa não deve se preocupar com a quantidade de notas existentes na máquina.\n",
    "\n",
    "Exemplo 1: Para sacar a quantia de 256 reais, o programa fornece duas notas de 100, uma nota de 50, uma nota de 5 e uma nota de 1;\n",
    "Exemplo 2: Para sacar a quantia de 399 reais, o programa fornece três notas de 100, uma nota de 50, quatro notas de 10, uma nota de 5 e quatro notas de 1."
   ]
  },
  {
   "cell_type": "code",
   "execution_count": 18,
   "metadata": {},
   "outputs": [
    {
     "name": "stdout",
     "output_type": "stream",
     "text": [
      "Informe o valor a ser sacado: 100\n",
      "1 notas de 100 reais;\n",
      "0 notas de 50 reais;\n",
      "0 notas de 10 reais;\n",
      "0 notas de 5 reais;\n",
      "0 notas de 1 real.\n"
     ]
    }
   ],
   "source": [
    "saque = int(input(\"Informe o valor a ser sacado: \"))\n",
    "if saque >= 10 and saque <= 600:\n",
    "    n100 = saque // 100\n",
    "    resto = saque % 100\n",
    "    print(f'{n100} notas de 100 reais;')\n",
    "    n50 = resto // 50\n",
    "    resto = resto % 50\n",
    "    print(f'{n50} notas de 50 reais;')\n",
    "    n10 = resto // 10\n",
    "    resto = resto % 10\n",
    "    print(f'{n10} notas de 10 reais;')\n",
    "    n5 = resto // 5\n",
    "    resto = resto % 5\n",
    "    print(f'{n5} notas de 5 reais;')\n",
    "    print(f'{resto} notas de 1 real.')\n",
    "else:\n",
    "    print(\"Valor não permitido.\")"
   ]
  },
  {
   "cell_type": "markdown",
   "metadata": {},
   "source": [
    "11: Faça um programa que faça 5 perguntas para uma pessoa sobre um crime. As perguntas são: \"Telefonou para a vítima?\" \"Esteve no local do crime?\" \"Mora perto da vítima?\" \"Devia para a vítima?\" \"Já trabalhou com a vítima?\" O programa deve no final emitir uma classificação sobre a participação da pessoa no crime. Se a pessoa responder positivamente a 2 questões ela deve ser classificada como \"Suspeita\", entre 3 e 4 como \"Cúmplice\" e 5 como \"Assassino\". Caso contrário, ele será classificado como \"Inocente\"."
   ]
  },
  {
   "cell_type": "code",
   "execution_count": 19,
   "metadata": {},
   "outputs": [
    {
     "name": "stdout",
     "output_type": "stream",
     "text": [
      "Digite S ou N para as perguntas sobre o CRIME\n",
      "Telefonou para a vitima?sim\n",
      "Esteve no local do crime?sim\n",
      "Mora perto da vitima?sim\n",
      "Devia para a vitima?não\n",
      "Ja- trabalhou com a vitima?sim\n",
      "Inocente\n"
     ]
    }
   ],
   "source": [
    "print(\"Digite S ou N para as perguntas sobre o CRIME\")\n",
    "p1 = input(\"Telefonou para a vitima?\")\n",
    "p2 = input(\"Esteve no local do crime?\")\n",
    "p3 = input(\"Mora perto da vitima?\")\n",
    "p4 = input(\"Devia para a vitima?\")\n",
    "p5 = input(\"Ja- trabalhou com a vitima?\")\n",
    "\n",
    "quest=[p1, p2, p3, p4, p5]\n",
    "conts = 0\n",
    "\n",
    "for media in quest:\n",
    "    if media == \"S\" or media == \"s\":\n",
    "        conts = conts+1\n",
    "        \n",
    "if conts == 2:\n",
    "    print(\"Suspeita\")\n",
    "elif conts == 3 or conts == 4:\n",
    "    print(\"Cumplice\")\n",
    "elif conts == 5:\n",
    "    print(\"Assassino\")\n",
    "else:\n",
    "    print(\"Inocente\")"
   ]
  },
  {
   "cell_type": "markdown",
   "metadata": {},
   "source": [
    "12.Uma fruteira está vendendo frutas com a seguinte tabela de preços: Até 5 Kg Acima de 5 Kg Morango RS 2,50 por Kg RS 2,20 por Kg Maçã RS 1,80 por Kg RS 1,50 por Kg Se o cliente comprar mais de 8 Kg em frutas ou o valor total da compra ultrapassar RS 25,00, receberá ainda um desconto de 10% sobre este total. Escreva um algoritmo para ler a quantidade (em Kg) de morangos e a quantidade (em Kg) de maças adquiridas e escreva o valor a ser pago pelo cliente."
   ]
  },
  {
   "cell_type": "code",
   "execution_count": 20,
   "metadata": {},
   "outputs": [
    {
     "name": "stdout",
     "output_type": "stream",
     "text": [
      "Insira a quantidade em kg de morangos: 2\n",
      "Insira a quantidade em kg de maçãs: 1\n",
      "Valor a ser pago:  6.8\n"
     ]
    }
   ],
   "source": [
    "preco = 0\n",
    "kgMorg = float(input(\"Insira a quantidade em kg de morangos: \"))\n",
    "kgMaca = float(input(\"Insira a quantidade em kg de maçãs: \"))\n",
    "\n",
    "if kgMorg < 5:\n",
    "    preco += kgMorg * 2.50\n",
    "else:\n",
    "    preco += kgMorg * 2.20\n",
    "    \n",
    "if kgMaca < 5:\n",
    "    preco += kgMaca * 1.80\n",
    "else:\n",
    "    preco += kgMaca * 1.50\n",
    "    \n",
    "if preco > 25.00:\n",
    "    preco *= 0.90\n",
    "\n",
    "print('Valor a ser pago: ', preco)"
   ]
  },
  {
   "cell_type": "markdown",
   "metadata": {},
   "source": [
    "13: Faça um programa que peça uma nota, entre zero e dez. Mostre uma mensagem caso o valor seja inválido e continue pedindo até que o usuário informe um valor válido."
   ]
  },
  {
   "cell_type": "code",
   "execution_count": 21,
   "metadata": {},
   "outputs": [
    {
     "name": "stdout",
     "output_type": "stream",
     "text": [
      "digita uma nota: 20\n",
      "digite um valor valido!\n",
      "digita uma nota: 10\n"
     ]
    }
   ],
   "source": [
    "while True:\n",
    "    var = int(input(\"digita uma nota: \"))\n",
    "    if var > 10 or var < 0:\n",
    "        print(\"digite um valor valido!\")\n",
    "    else:\n",
    "        break"
   ]
  },
  {
   "cell_type": "markdown",
   "metadata": {},
   "source": [
    "13(2).Faça um programa que leia e valide as seguintes informações: Nome: maior que 3 caracteres; Idade: entre 0 e 150; Salário: maior que zero; Sexo: 'f' ou 'm'; Estado Civil: 's', 'c', 'v', 'd';"
   ]
  },
  {
   "cell_type": "code",
   "execution_count": 22,
   "metadata": {},
   "outputs": [
    {
     "name": "stdout",
     "output_type": "stream",
     "text": [
      "digite um nome: Bruna\n",
      "verificado!\n",
      "digite uma idade: 22\n",
      "verificado!\n",
      "digite um salario: 900\n",
      "verificado!\n",
      "digite um sexo: f\n",
      "verificado!\n",
      "digite um estado civil: s\n",
      "verificado!\n"
     ]
    }
   ],
   "source": [
    "verifica = 0\n",
    "while verifica != 1:\n",
    "    nome = input(\"digite um nome: \")\n",
    "    if len(nome) > 3:\n",
    "        print(\"verificado!\")\n",
    "    else:\n",
    "        print(\"invalido!\")\n",
    "        continue\n",
    "        \n",
    "    idade = int(input(\"digite uma idade: \"))\n",
    "    if idade >= 0 and idade <= 150:\n",
    "        print(\"verificado!\")\n",
    "    else:\n",
    "        print(\"invalido!\")\n",
    "        continue\n",
    "      \n",
    "    salario = float(input(\"digite um salario: \"))\n",
    "    if salario >= 0:\n",
    "        print(\"verificado!\")\n",
    "    else: \n",
    "        print(\"invalido!\")\n",
    "        continue\n",
    "    \n",
    "    sexo = input(\"digite um sexo: \")\n",
    "    if sexo == 'f' or sexo == 'm':\n",
    "         print(\"verificado!\")\n",
    "    else: \n",
    "        print(\"invalido!\")\n",
    "        continue\n",
    "    \n",
    "    estado = input(\"digite um estado civil: \")\n",
    "    if estado == 's' or estado == 'c' or estado == 'v' or estado == 'd':\n",
    "         print(\"verificado!\")\n",
    "    else: \n",
    "        print(\"invalido!\")\n",
    "        continue\n",
    "    break"
   ]
  },
  {
   "cell_type": "markdown",
   "metadata": {},
   "source": [
    "15.Faça um programa que leia 5 números e informe o maior número."
   ]
  },
  {
   "cell_type": "code",
   "execution_count": 23,
   "metadata": {},
   "outputs": [
    {
     "name": "stdout",
     "output_type": "stream",
     "text": [
      "Digite um numero: 5\n",
      "Digite um numero: 6\n",
      "Digite um numero: 10\n",
      "Digite um numero: 5\n",
      "Digite um numero: 9\n",
      "10\n"
     ]
    }
   ],
   "source": [
    "maior = 0\n",
    "count = 0\n",
    "while count < 5:\n",
    "    num = int(input('Digite um numero: '))\n",
    "    if num > maior:\n",
    "        maior = num\n",
    "    count = count + 1\n",
    "else:\n",
    "    print(maior)"
   ]
  },
  {
   "cell_type": "markdown",
   "metadata": {},
   "source": [
    "16 - Faça um programa que imprima na tela apenas os números ímpares entre 1 e 50."
   ]
  },
  {
   "cell_type": "code",
   "execution_count": 27,
   "metadata": {},
   "outputs": [
    {
     "name": "stdout",
     "output_type": "stream",
     "text": [
      "1\n",
      "3\n",
      "5\n",
      "7\n",
      "9\n",
      "11\n",
      "13\n",
      "15\n",
      "17\n",
      "19\n",
      "21\n",
      "23\n",
      "25\n",
      "27\n",
      "29\n",
      "31\n",
      "33\n",
      "35\n",
      "37\n",
      "39\n",
      "41\n",
      "43\n",
      "45\n",
      "47\n",
      "49\n"
     ]
    }
   ],
   "source": [
    "for num in range(1,50):\n",
    "    if num % 2 != 0:\n",
    "        print(num)"
   ]
  },
  {
   "cell_type": "markdown",
   "metadata": {},
   "source": [
    "17 -Desenvolva um gerador de tabuada, capaz de gerar a tabuada de qualquer número inteiro entre 1 a 10. O usuário deve informar de qual numero ele deseja ver a tabuada."
   ]
  },
  {
   "cell_type": "code",
   "execution_count": 26,
   "metadata": {},
   "outputs": [
    {
     "name": "stdout",
     "output_type": "stream",
     "text": [
      "Digita um número de 1 a 10: 2\n",
      "2 X 1 = 2\n",
      "2 X 2 = 4\n",
      "2 X 3 = 6\n",
      "2 X 4 = 8\n",
      "2 X 5 = 10\n",
      "2 X 6 = 12\n",
      "2 X 7 = 14\n",
      "2 X 8 = 16\n",
      "2 X 9 = 18\n",
      "2 X 10 = 20\n"
     ]
    }
   ],
   "source": [
    "num = int(input('Digita um número de 1 a 10: '))\n",
    "if num not in range(1,11):\n",
    "    print('Numero inválido! Digite um número de 1 a 10!')\n",
    "else:\n",
    "    for val in range(1,11):\n",
    "        result = num*val\n",
    "        print(str(num) + ' X ' + str(val) + ' = ' + str(result))"
   ]
  },
  {
   "cell_type": "markdown",
   "metadata": {},
   "source": [
    "18. A série de Fibonacci é formada pela seqüência 1,1,2,3,5,8,13,21,34,55,... Faça um programa capaz de gerar a série até o n−ésimo termo."
   ]
  },
  {
   "cell_type": "code",
   "execution_count": 28,
   "metadata": {},
   "outputs": [
    {
     "name": "stdout",
     "output_type": "stream",
     "text": [
      "Digite um número: 2\n",
      "1\n"
     ]
    }
   ],
   "source": [
    "num = int(input('Digite um número: '))\n",
    "atual = 1\n",
    "anterior = 0\n",
    "count = 1\n",
    "while count != num:\n",
    "    atual = atual+anterior\n",
    "    print(atual)\n",
    "    anterior = atual-anterior\n",
    "    count = count + 1    "
   ]
  },
  {
   "cell_type": "markdown",
   "metadata": {},
   "source": [
    "19 - Faça um programa que calcule o fatorial de um número inteiro fornecido pelo usuário. Ex.: 5!=5.4.3.2.1=120"
   ]
  },
  {
   "cell_type": "code",
   "execution_count": 29,
   "metadata": {},
   "outputs": [
    {
     "name": "stdout",
     "output_type": "stream",
     "text": [
      "Fatorial de: 6\n",
      "720\n"
     ]
    }
   ],
   "source": [
    "fatorial = int(input(\"Fatorial de: \"))\n",
    "for i in range(1, fatorial):\n",
    "    fatorial = fatorial * i\n",
    "print(fatorial)"
   ]
  },
  {
   "cell_type": "markdown",
   "metadata": {},
   "source": [
    "20 -O Sr. Manoel Joaquim possui uma grande loja de artigos de RS 1.99, com cerca de 10 caixas. Para agilizar o cálculo de quanto cada cliente deve pagar ele desenvolveu um tabela que contém o número de itens que o cliente comprou e ao lado o valor da conta. Desta forma a atendente do caixa precisa apenas contar quantos itens o cliente está levando e olhar na tabela de preços. Você foi contratado para desenvolver o programa que monta esta tabela de preços, que conterá os preços de 1 até 50 produtos, conforme o exemplo abaixo: Lojas Quase Dois - Tabela de preços 1 - RS 1.99 2 - RS 3.98 ... 50 - RS 99.50"
   ]
  },
  {
   "cell_type": "code",
   "execution_count": 30,
   "metadata": {},
   "outputs": [
    {
     "name": "stdout",
     "output_type": "stream",
     "text": [
      "Lojas Quase Dois - Tabela de preços\n",
      "1 - R$ 1.99\n",
      "2 - R$ 3.98\n",
      "3 - R$ 5.97\n",
      "4 - R$ 7.96\n",
      "5 - R$ 9.95\n",
      "6 - R$ 11.94\n",
      "7 - R$ 13.93\n",
      "8 - R$ 15.92\n",
      "9 - R$ 17.91\n",
      "10 - R$ 19.9\n",
      "11 - R$ 21.89\n",
      "12 - R$ 23.88\n",
      "13 - R$ 25.87\n",
      "14 - R$ 27.86\n",
      "15 - R$ 29.85\n",
      "16 - R$ 31.84\n",
      "17 - R$ 33.83\n",
      "18 - R$ 35.82\n",
      "19 - R$ 37.81\n",
      "20 - R$ 39.8\n",
      "21 - R$ 41.79\n",
      "22 - R$ 43.78\n",
      "23 - R$ 45.77\n",
      "24 - R$ 47.76\n",
      "25 - R$ 49.75\n",
      "26 - R$ 51.74\n",
      "27 - R$ 53.73\n",
      "28 - R$ 55.72\n",
      "29 - R$ 57.71\n",
      "30 - R$ 59.7\n",
      "31 - R$ 61.69\n",
      "32 - R$ 63.68\n",
      "33 - R$ 65.67\n",
      "34 - R$ 67.66\n",
      "35 - R$ 69.65\n",
      "36 - R$ 71.64\n",
      "37 - R$ 73.63\n",
      "38 - R$ 75.62\n",
      "39 - R$ 77.61\n",
      "40 - R$ 79.6\n",
      "41 - R$ 81.59\n",
      "42 - R$ 83.58\n",
      "43 - R$ 85.57\n",
      "44 - R$ 87.56\n",
      "45 - R$ 89.55\n",
      "46 - R$ 91.54\n",
      "47 - R$ 93.53\n",
      "48 - R$ 95.52\n",
      "49 - R$ 97.51\n",
      "50 - R$ 99.5\n"
     ]
    }
   ],
   "source": [
    "print('Lojas Quase Dois - Tabela de preços')\n",
    "for val in range(1,51):\n",
    "    print(str(val) + ' - R$ ' + str(1.99*val))"
   ]
  },
  {
   "cell_type": "markdown",
   "metadata": {},
   "source": [
    "21 - O Sr. Manoel Joaquim acaba de adquirir uma panificadora e pretende implantar a metodologia da tabelinha, que já é um sucesso na sua loja de 1,99. Você foi contratado para desenvolver o programa que monta a tabela de preços de pães, de 1 até 50 pães, a partir do preço do pão informado pelo usuário, conforme o exemplo abaixo: Preço do pão: RS 0.18 Panificadora Pão de Ontem - Tabela de preços 1 - RS 0.18 2 - RS 0.36 ... 50 - RS 9.00"
   ]
  },
  {
   "cell_type": "code",
   "execution_count": 32,
   "metadata": {},
   "outputs": [
    {
     "name": "stdout",
     "output_type": "stream",
     "text": [
      "Digite o preço do pão: 2\n",
      "Panificadora Pão de Ontem - Tabela de preços\n",
      "1 - R$ 2.0\n",
      "2 - R$ 4.0\n",
      "3 - R$ 6.0\n",
      "4 - R$ 8.0\n",
      "5 - R$ 10.0\n",
      "6 - R$ 12.0\n",
      "7 - R$ 14.0\n",
      "8 - R$ 16.0\n",
      "9 - R$ 18.0\n",
      "10 - R$ 20.0\n",
      "11 - R$ 22.0\n",
      "12 - R$ 24.0\n",
      "13 - R$ 26.0\n",
      "14 - R$ 28.0\n",
      "15 - R$ 30.0\n",
      "16 - R$ 32.0\n",
      "17 - R$ 34.0\n",
      "18 - R$ 36.0\n",
      "19 - R$ 38.0\n",
      "20 - R$ 40.0\n",
      "21 - R$ 42.0\n",
      "22 - R$ 44.0\n",
      "23 - R$ 46.0\n",
      "24 - R$ 48.0\n",
      "25 - R$ 50.0\n",
      "26 - R$ 52.0\n",
      "27 - R$ 54.0\n",
      "28 - R$ 56.0\n",
      "29 - R$ 58.0\n",
      "30 - R$ 60.0\n",
      "31 - R$ 62.0\n",
      "32 - R$ 64.0\n",
      "33 - R$ 66.0\n",
      "34 - R$ 68.0\n",
      "35 - R$ 70.0\n",
      "36 - R$ 72.0\n",
      "37 - R$ 74.0\n",
      "38 - R$ 76.0\n",
      "39 - R$ 78.0\n",
      "40 - R$ 80.0\n",
      "41 - R$ 82.0\n",
      "42 - R$ 84.0\n",
      "43 - R$ 86.0\n",
      "44 - R$ 88.0\n",
      "45 - R$ 90.0\n",
      "46 - R$ 92.0\n",
      "47 - R$ 94.0\n",
      "48 - R$ 96.0\n",
      "49 - R$ 98.0\n",
      "50 - R$ 100.0\n"
     ]
    }
   ],
   "source": [
    "num = float(input('Digite o preço do pão: '))\n",
    "print('Panificadora Pão de Ontem - Tabela de preços')\n",
    "for val in range(1,51):\n",
    "    print(str(val) + ' - R$ ' + str(val*num))"
   ]
  },
  {
   "cell_type": "markdown",
   "metadata": {},
   "source": [
    "22.O Sr. Manoel Joaquim expandiu seus negócios para além dos negócios de 1,99 e agora possui uma loja de conveniências. Faça um programa que implemente uma caixa registradora rudimentar. O programa deverá receber um número desconhecido de valores referentes aos preços das mercadorias. Um valor zero deve ser informado pelo operador para indicar o final da compra. O programa deve então mostrar o total da compra e perguntar o valor em dinheiro que o cliente forneceu, para então calcular e mostrar o valor do troco. Após esta operação, o programa deverá voltar ao ponto inicial, para registrar a próxima compra. A saída deve ser conforme o exemplo abaixo:"
   ]
  },
  {
   "cell_type": "code",
   "execution_count": 33,
   "metadata": {},
   "outputs": [
    {
     "name": "stdout",
     "output_type": "stream",
     "text": [
      "Insira o preço do item (Digite '0' para finalizar a compra): 0\n",
      "Total: R$ 0.0\n",
      "Insira o valor a ser pago: 20\n",
      "Troco: R$  20.0\n"
     ]
    }
   ],
   "source": [
    "total = 0\n",
    "preco = -1\n",
    "i = 0\n",
    "while preco != 0:\n",
    "    preco = float(input(\"Insira o preço do item (Digite '0' para finalizar a compra): \"))\n",
    "    total += preco\n",
    "    i += 1\n",
    "    if preco == 0:\n",
    "        print(f\"Total: R$ {total}\")\n",
    "        pago = float(input(\"Insira o valor a ser pago: \"))\n",
    "        print(\"Troco: R$ \", pago - total)\n",
    "    else:\n",
    "        print(f\"Produto {i}: R$ {preco}\")"
   ]
  },
  {
   "cell_type": "markdown",
   "metadata": {},
   "source": [
    "23 Foi feita uma estatística em cinco cidades brasileiras para coletar dados sobre acidentes de trânsito. Foram obtidos os seguintes dados:\n",
    "\n",
    "- Código da cidade;\n",
    "- Número de veículos de passeio (em 1999);\n",
    "- Número de acidentes de trânsito com vítimas (em 1999). Deseja-se saber:\n",
    "- Qual o maior e menor índice de acidentes de transito e a que cidade pertence;\n",
    "- Qual a média de veículos nas cinco cidades juntas;\n",
    "- Qual a média de acidentes de trânsito nas cidades com menos de 2.000 veículos de\n",
    "passeio."
   ]
  },
  {
   "cell_type": "code",
   "execution_count": null,
   "metadata": {},
   "outputs": [
    {
     "name": "stdout",
     "output_type": "stream",
     "text": [
      "Codigo da cidade: 222\n",
      "Numero de veiculos de passeio: 50\n",
      "Numero de acidentes: 5\n"
     ]
    }
   ],
   "source": [
    "tamanho = 5\n",
    "cod_cidade =  [0] * tamanho\n",
    "n_acidentes = [0] * tamanho\n",
    "n_veiculos =  [0] * tamanho\n",
    "\n",
    "for i in range(tamanho):\n",
    "    cod_cidade[1] = int(input('Codigo da cidade: '))\n",
    "    n_veiculos[i] = int(input('Numero de veiculos de passeio: '))\n",
    "    n_acidentes[i]= int(input('Numero de acidentes: ')) \n",
    "    \n",
    "def SomaAcidentes(listaAcidentes):\n",
    "    totalAcidentes=0\n",
    "    for numeroLista1 in listaAcidentes:\n",
    "        totalAcidentes += numeroLista1\n",
    "    return totalAcidentes\n",
    "    \n",
    "def SomaVeiculos(listaVeiculos):\n",
    "    totalVeiculos=0\n",
    "    for numeroLista2 in listaVeiculos:\n",
    "        totalVeiculos += numeroLista2\n",
    "    return totalVeiculos\n",
    "\n",
    "def MediaVeiculos(listaVeiculos):\n",
    "    return (SomaVeiculos(n_veiculos) / len(listaVeiculos))\n",
    "\n",
    "def MediaAcidentes(listaAcidentes):\n",
    "    return (SomaAcidentes(n_acidentes) / len(listaAcidentes))\n",
    "\n",
    "print ('\\nMaior indice de acidentes: ',max(n_acidentes))\n",
    "print ('Menor indice de acidentes: ',min(n_acidentes))\n",
    "print ('Media de veículos: ', MediaVeiculos(n_veiculos))\n",
    "print ('Média de acidentes de transito nas cidades com menos de 2 Mil veículos: ', MediaAcidentes(n_acidentes))"
   ]
  },
  {
   "cell_type": "markdown",
   "metadata": {},
   "source": [
    "\n",
    "24 - Faça um programa que receba o valor de uma dívida e mostre uma tabela com os seguintes dados: valor da dívida, valor dos juros, quantidade de parcelas e valor da parcela. Os juros e a quantidade de parcelas seguem a tabela abaixo: Quantidade de Parcelas % de Juros sobre o valor inicial da dívida 1 0 3 10 6 15 9 20 12 25 Exemplo de saída do programa: Valor da Dívida Valor dos Juros Quantidade de Parcelas Valor da Parcela RS 1.000,00 0 1 RS 1.000,00 RS 1.100,00 100 3 RS 366,00 RS 1.150,00 150 6 RS 191,67"
   ]
  },
  {
   "cell_type": "code",
   "execution_count": 1,
   "metadata": {},
   "outputs": [
    {
     "name": "stdout",
     "output_type": "stream",
     "text": [
      "Insira o valor da dívida: 1000\n",
      "Dívida \t Valor Juros \t Qtde Parcelas \t Valor da Parcela\n",
      "R$ 1000.0 \t 0.0 \t 1 \t R$ 1000.00\n",
      "R$ 1100.0 \t 100.0 \t 3 \t R$ 366.67\n",
      "R$ 1150.0 \t 150.0 \t 6 \t R$ 191.67\n",
      "R$ 1200.0 \t 200.0 \t 9 \t R$ 133.33\n",
      "R$ 1250.0 \t 250.0 \t 12 \t R$ 104.17\n"
     ]
    }
   ],
   "source": [
    "\n",
    "num = float(input('Digite o valor da dívida: '))\n",
    "print('Valor da Dívida     Valor dos Juros      Quantidade de Parcelas      Valor da Parcela')\n",
    "print('R$ ' + str(num) + '           0                    1                           ' + str(num))\n",
    "print('R$ ' + str(num) + '           '+str(num*(15/100))+'                3                           ' + str(num + (num*(10/100))))\n",
    "print('R$ ' + str(num) + '           '+str(num*(10/100))+'                6                           ' + str(num + (num*(15/100))))\n",
    "print('R$ ' + str(num) + '           '+str(num*(20/100))+'                9                           ' + str(num + (num*(20/100))))\n",
    "print('R$ ' + str(num) + '           '+str(num*(25/100))+'                12                          ' + str(num + (num*(25/100))))"
   ]
  },
  {
   "cell_type": "markdown",
   "metadata": {},
   "source": [
    "25 - Faça um programa que mostre os n termos da Série a seguir: S = 1/1 + 2/3 + 3/5 + 4/7 + 5/9 + ... + n/m. Imprima no final a soma da série."
   ]
  },
  {
   "cell_type": "code",
   "execution_count": 2,
   "metadata": {},
   "outputs": [
    {
     "name": "stdout",
     "output_type": "stream",
     "text": [
      "Digite um numero: 5\n",
      "3.393650793650793\n"
     ]
    }
   ],
   "source": [
    "num = int(input('Digite um numero: '))\n",
    "count = 1\n",
    "total = 0\n",
    "f = 1\n",
    "s = 1\n",
    "while count <= num:\n",
    "    total = total + (f/s)\n",
    "    f = f+1\n",
    "    s = s+2\n",
    "    count = count +1\n",
    "else:\n",
    "    print(total)"
   ]
  }
 ],
 "metadata": {
  "kernelspec": {
   "display_name": "Python 3",
   "language": "python",
   "name": "python3"
  },
  "language_info": {
   "codemirror_mode": {
    "name": "ipython",
    "version": 3
   },
   "file_extension": ".py",
   "mimetype": "text/x-python",
   "name": "python",
   "nbconvert_exporter": "python",
   "pygments_lexer": "ipython3",
   "version": "3.7.1"
  }
 },
 "nbformat": 4,
 "nbformat_minor": 2
}
