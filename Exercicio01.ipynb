{
 "cells": [
  {
   "cell_type": "markdown",
   "metadata": {},
   "source": [
    "1.Faça um programa que peça o raio de um circulo,calcule e mostre sua area."
   ]
  },
  {
   "cell_type": "code",
   "execution_count": 1,
   "metadata": {},
   "outputs": [
    {
     "name": "stdout",
     "output_type": "stream",
     "text": [
      "Digite um raio: 9\n",
      "A area do circulo de raio 9 é 254.46900494077323\n"
     ]
    }
   ],
   "source": [
    "import math\n",
    "raio = int(input(\"Digite um raio: \"))\n",
    "type (raio)\n",
    "area  = math.pi * (raio**2)\n",
    "print (f'A area do circulo de raio {raio} é {area}')"
   ]
  },
  {
   "cell_type": "markdown",
   "metadata": {},
   "source": [
    "2.Faça um Programa que calcule a área de um quadrado, em seguida mostre o dobro\n",
    "desta área para o usuário."
   ]
  },
  {
   "cell_type": "code",
   "execution_count": 3,
   "metadata": {},
   "outputs": [
    {
     "name": "stdout",
     "output_type": "stream",
     "text": [
      "digite o lado do quadrado: 4\n",
      "O dobro da area desse quadrado é: 32\n"
     ]
    }
   ],
   "source": [
    "lado  = int(input('digite o lado do quadrado: '))\n",
    "area  = (lado * lado)\n",
    "dobro = area * 2 \n",
    "print(\"O dobro da area desse quadrado é:\", dobro)"
   ]
  },
  {
   "cell_type": "markdown",
   "metadata": {},
   "source": [
    "3.Faça um programa que pergunta quanto voce ganha por hora e o numero de horas trabalhadas no mês. Calcule e mostra o total de seu salario no referido mês."
   ]
  },
  {
   "cell_type": "code",
   "execution_count": 5,
   "metadata": {},
   "outputs": [
    {
     "name": "stdout",
     "output_type": "stream",
     "text": [
      "Valor Hora60\n",
      "Quantidade de horas trabalhadas8\n",
      "Com valor de 60.00 reais a hora e tendo trabalhado 8.00 horas, voce ganhara 480.00\n",
      "\n"
     ]
    }
   ],
   "source": [
    "valor_hora = float (input (\"Valor Hora\"))\n",
    "horas_trabalhadas = float(input (\"Quantidade de horas trabalhadas\"))\n",
    "salario = valor_hora * horas_trabalhadas\n",
    "print ('Com valor de %.2f reais a hora e tendo trabalhado %.2f horas, voce ganhara %.2f\\n'%(valor_hora, horas_trabalhadas, salario))"
   ]
  },
  {
   "cell_type": "markdown",
   "metadata": {},
   "source": [
    "4.Faça um Programa que peça a temperatura em graus Farenheit, transforme e\n",
    "mostre a temperatura em graus Celsius. C = (5 * (F-32) / 9)."
   ]
  },
  {
   "cell_type": "code",
   "execution_count": 10,
   "metadata": {},
   "outputs": [
    {
     "name": "stdout",
     "output_type": "stream",
     "text": [
      "Digite a temperatura(F): 20\n",
      "A temperatura em Celsius é: -6.666666666666667\n"
     ]
    }
   ],
   "source": [
    "F = int(input(\"Digite a temperatura(F): \"))\n",
    "C = (5 * (F-32) / 9)\n",
    "print(\"A temperatura em Celsius é:\", C)"
   ]
  },
  {
   "cell_type": "markdown",
   "metadata": {},
   "source": [
    "5.Faça um Programa que peça a temperatura em graus Celsius, transforme e mostre\n",
    "em graus Farenheit."
   ]
  },
  {
   "cell_type": "code",
   "execution_count": 12,
   "metadata": {},
   "outputs": [
    {
     "name": "stdout",
     "output_type": "stream",
     "text": [
      "Digite a temperatura em (C): 9\n",
      "A temperatura em Farenheit é:  48.2\n"
     ]
    }
   ],
   "source": [
    "C = int(input(\"Digite a temperatura em (C): \"))\n",
    "F = (C*1.8)+32\n",
    "print(\"A temperatura em Farenheit é: \", F)"
   ]
  },
  {
   "cell_type": "markdown",
   "metadata": {},
   "source": [
    "6.Faça um Programa que peça 2 números inteiros e um número real. Calcule e mostre: \n",
    "- o produto do dobro do primeiro com metade do segundo.\n",
    "- a soma do triplo do primeiro com o terceiro. \n",
    "- o terceiro elevado ao cubo."
   ]
  },
  {
   "cell_type": "code",
   "execution_count": 15,
   "metadata": {},
   "outputs": [
    {
     "name": "stdout",
     "output_type": "stream",
     "text": [
      "Digite um numero inteiro: 5\n",
      "Digite outro numero inteiro: 2\n",
      "Digite um numero real: 0.32\n",
      "Calculo 1: 10.0\n",
      "Calculo 2: 15.32\n",
      "Calculo 3: 0.033\n"
     ]
    }
   ],
   "source": [
    "num1 = int(input(\"Digite um numero inteiro: \"))\n",
    "num2 = int(input(\"Digite outro numero inteiro: \"))\n",
    "real = float(input(\"Digite um numero real: \"))\n",
    "cal1 = ((num1*2)*(num2/2))\n",
    "cal2 = ((num1*3)+ real)\n",
    "cal3 = real**3\n",
    "print(\"Calculo 1:\", cal1)\n",
    "print(\"Calculo 2:\" , cal2)\n",
    "print(\"Calculo 3: %.3f\"  %cal3)"
   ]
  },
  {
   "cell_type": "markdown",
   "metadata": {},
   "source": [
    "7.João Papo-de-Pescador, homem de bem, comprou um microcomputador para\n",
    "controlar o rendimento diário de seu trabalho. Toda vez que ele traz um peso de\n",
    "peixes maior que o estabelecido pelo regulamento de pesca do estado de São Paulo\n",
    "(50 quilos) deve pagar uma multa de R$ 4,00 por quilo excedente. João precisa que\n",
    "você faça um programa que leia a variável peso (peso de peixes) e verifique se há\n",
    "excesso. Se houver, gravar na variável excesso e na variável multa o valor da multa\n",
    "que João deverá pagar. Caso contrário mostrar tais variáveis com o conteúdo ZERO."
   ]
  },
  {
   "cell_type": "code",
   "execution_count": 16,
   "metadata": {},
   "outputs": [
    {
     "name": "stdout",
     "output_type": "stream",
     "text": [
      "Digite o peso de peixes70\n",
      "Excesso: 20.0, Multa: 80.0\n"
     ]
    }
   ],
   "source": [
    "peso_peixes = float (input (\"Digite o peso de peixes\"))\n",
    "excesso = 0\n",
    "multa = 0\n",
    "if peso_peixes > 50:\n",
    "    excesso = peso_peixes - 50\n",
    "    multa = 4 * excesso\n",
    "print ('Excesso: {}, Multa: {}'.format(excesso, multa))"
   ]
  },
  {
   "cell_type": "markdown",
   "metadata": {},
   "source": [
    "8.Faça um Programa que pergunte quanto você ganha por hora e o número de horas\n",
    "trabalhadas no mês. Calcule e mostre o total do seu salário no referido mês,\n",
    "sabendo-se que são descontados 11% para o Imposto de Renda, 8% para o INSS e 5%\n",
    "para o sindicato, faça um programa que nos dê:\n",
    " salário bruto.\n",
    "- quanto pagou ao INSS.\n",
    "- quanto pagou ao sindicato.\n",
    "- o salário líquido.\n",
    "- calcule os descontos e o salário líquido, conforme a tabela abaixo:\n",
    "+ Salário Bruto : R$\n",
    "- IR (11%) : R$\n",
    "- INSS (8%) : R$\n",
    "- Sindicato ( 5%) : R$\n",
    "- Salário Liquido : R$\n",
    "Obs.: Salário Bruto - Descontos = Salário Líquido."
   ]
  },
  {
   "cell_type": "code",
   "execution_count": null,
   "metadata": {},
   "outputs": [],
   "source": [
    "salHora   = float(input(\"Valor ganho por hora: \"))\n",
    "horaTrab  = float(input(\"Horas trablhadas: \"))\n",
    "salBruto  = salHora * horaTrab\n",
    "INSS      = (salBruto * 0.08)\n",
    "sindicato = (salBruto * 0.05)\n",
    "impostoR  = (salBruto * 0.11)\n",
    "salLiquido  = salBruto - (INSS+sindicato+impostoR)\n",
    "print(\"Salario Bruto: R$\",salBruto)\n",
    "print(\"INSS (8%): R$\",INSS)\n",
    "print(\"IR(11%): R$\",impostoR)\n",
    "print(\"Sindicato(5%): R$\",sindicato)\n",
    "print(\"Salario Liquido: R$\",salLiquido)"
   ]
  },
  {
   "cell_type": "markdown",
   "metadata": {},
   "source": [
    "9.Faça um programa que leia 2 strings e informe o conteúdo delas seguido do seu\n",
    "comprimento. Informe também se as duas strings possuem o mesmo comprimento e\n",
    "são iguais ou diferentes no conteúdo.\n",
    "Exemplo:\n",
    "String 1: Brasil Hexa 2018\n",
    "String 2: Brasil! Hexa 2018!\n",
    "Tamanho de \"Brasil Hexa 2018\": 16 caracteres\n",
    "Tamanho de \"Brasil! Hexa 2018!\": 18 caracteres\n",
    "As duas strings são de tamanhos diferentes.\n",
    "As duas strings possuem conteúdo diferente."
   ]
  },
  {
   "cell_type": "code",
   "execution_count": 17,
   "metadata": {},
   "outputs": [
    {
     "name": "stdout",
     "output_type": "stream",
     "text": [
      "Digite algum texto: ola mundo\n",
      "Digite outro texto: como vai\n",
      "O Tamanho de 'ola mundo'é 9 caracteres\n",
      "O Tamanho de 'como vai'é 8 caracteres\n",
      "As strings possuem tamanhos diferentes\n",
      "as strings possuem conteudos diferentes\n"
     ]
    }
   ],
   "source": [
    "s1 = input(\"Digite algum texto: \").strip()\n",
    "s2 = input(\"Digite outro texto: \").strip()\n",
    "comprimento = 'As strings possuem tamanhos diferentes'\n",
    "conteudo = 'as strings possuem conteudos diferentes'\n",
    "i = 0\n",
    "if(len(s1) == len(s2)):\n",
    "    comprimento = 'As strings possuem o mesmo tamanho'\n",
    "    conteudo = 'as strings possuem conteudos iguais'\n",
    "    for x in string1:\n",
    "        if(string2[i] != x):\n",
    "            conteudo = 'As strings possuem conteudos diferentes tche'\n",
    "        i = i+1        \n",
    "print(\"O Tamanho de \"+\"'{}'é {} caracteres\" . format(s1,len(s1))) \n",
    "print(\"O Tamanho de \"+\"'{}'é {} caracteres\" . format(s2,len(s2)))\n",
    "print(\"{}\".format(comprimento))\n",
    "print(\"{}\".format(conteudo))\n",
    "    "
   ]
  },
  {
   "cell_type": "markdown",
   "metadata": {},
   "source": [
    "10.Faça um programa que permita ao usuário digitar o seu nome e em seguida\n",
    "mostre o nome do usuário de trás para frente utilizando somente letras maiúsculas.\n",
    "Dica: lembre−se que ao informar o nome o usuário pode digitar letras maiúsculas ou\n",
    "minúsculas. Observação: não use loops."
   ]
  },
  {
   "cell_type": "code",
   "execution_count": 18,
   "metadata": {},
   "outputs": [
    {
     "name": "stdout",
     "output_type": "stream",
     "text": [
      "Digite o seu nome: Bruna Gabriella Souza Lima\n",
      "AMIL AZUOS ALLEIRBAG ANURB\n"
     ]
    }
   ],
   "source": [
    "nome = input(\"Digite o seu nome: \")\n",
    "print(nome.upper()[::-1])"
   ]
  },
  {
   "cell_type": "markdown",
   "metadata": {},
   "source": [
    "11.Faça um programa que solicite a data de nascimento (dd/mm/aaaa) do usuário e\n",
    "imprima a data com o nome do mês por extenso.\n",
    "Data de Nascimento: 29/10/1973\n",
    "Você nasceu em 29 de Outubro de 1973.\n",
    "Obs.: Não use desvio condicional nem loops."
   ]
  },
  {
   "cell_type": "code",
   "execution_count": 20,
   "metadata": {
    "scrolled": true
   },
   "outputs": [
    {
     "name": "stdout",
     "output_type": "stream",
     "text": [
      "Digite sua data de nascimento: 09/04/1997\n",
      "Voce nasceu em 09 de Abril de 1997\n"
     ]
    }
   ],
   "source": [
    "data = input(\"Digite sua data de nascimento: \")\n",
    "dataS = data.split('/')\n",
    "dia = dataS[0]\n",
    "ano = dataS[2]\n",
    "mes = dataS[1]\n",
    "mes = mes.replace('01','Janiero')\n",
    "mes = mes.replace('02','Fevereiro')\n",
    "mes = mes.replace('03','Março')\n",
    "mes = mes.replace('04','Abril')\n",
    "mes = mes.replace('05','Maio')\n",
    "mes = mes.replace('06','Junho')\n",
    "mes = mes.replace('07','Julho')\n",
    "mes = mes.replace('08','Agosto')\n",
    "mes = mes.replace('09','Setembro')\n",
    "mes = mes.replace('10','Outubro')\n",
    "mes = mes.replace('11','Novembro')\n",
    "mes = mes.replace('12','Dezembro')\n",
    "print(\"Voce nasceu em\",dia+' de',mes+' de',ano)"
   ]
  },
  {
   "cell_type": "markdown",
   "metadata": {},
   "source": [
    "12.Leet é uma forma de se escrever o alfabeto latino usando outros símbolos em lugar das letras, como números por exemplo. A própria palavra leet admite muitas variações, como l33t ou 1337. O uso do leet reflete uma subcultura relacionada ao mundo dos jogos de computador e internet, sendo muito usada para confundir os iniciantes e afirmar-se como parte de um grupo. Pesquise sobre as principais formas de traduzir as letras. Depois, faça um programa que peça uma texto e transforme-o para a grafia leet speak. Desafio: não use loops nem desvios condicionais"
   ]
  },
  {
   "cell_type": "code",
   "execution_count": 21,
   "metadata": {},
   "outputs": [
    {
     "name": "stdout",
     "output_type": "stream",
     "text": [
      "Escreca algo para ser traduzido para Leet Ola mundo\n",
      "A Tradução do texto é 0£4 |\\/|(_)/\\/[D0\n"
     ]
    }
   ],
   "source": [
    "s = input('Escreca algo para ser traduzido para Leet ').strip().upper()\n",
    "s = s.replace('A', '4')\n",
    "s = s.replace('B', '|3')\n",
    "s = s.replace('C', '¢')\n",
    "s = s.replace('D', '[D')\n",
    "s = s.replace('E', '€')\n",
    "s = s.replace('F', 'ph')\n",
    "s = s.replace('G', '6')\n",
    "s = s.replace('H', '}{')\n",
    "s = s.replace('I', '!')\n",
    "s = s.replace('J', '_/')\n",
    "s = s.replace('K', '}<')\n",
    "s = s.replace('L', '£')\n",
    "s = s.replace('M', '|\\/|')\n",
    "s = s.replace('N', '/\\/')\n",
    "s = s.replace('O', '0')\n",
    "s = s.replace('P', '|>')\n",
    "s = s.replace('Q', '9')\n",
    "s = s.replace('R', '|2')\n",
    "s = s.replace('S', '§')\n",
    "s = s.replace('T', '7')\n",
    "s = s.replace('U', '(_)')\n",
    "s = s.replace('V', '\\/')\n",
    "s = s.replace('W', '\\X/')\n",
    "s = s.replace('X', '}|{')\n",
    "s = s.replace('Y', '¥')\n",
    "s = s.replace('Z', '2')\n",
    "print('A Tradução do texto é {}'.format(s))"
   ]
  }
 ],
 "metadata": {
  "kernelspec": {
   "display_name": "Python 3",
   "language": "python",
   "name": "python3"
  },
  "language_info": {
   "codemirror_mode": {
    "name": "ipython",
    "version": 3
   },
   "file_extension": ".py",
   "mimetype": "text/x-python",
   "name": "python",
   "nbconvert_exporter": "python",
   "pygments_lexer": "ipython3",
   "version": "3.7.1"
  }
 },
 "nbformat": 4,
 "nbformat_minor": 2
}
