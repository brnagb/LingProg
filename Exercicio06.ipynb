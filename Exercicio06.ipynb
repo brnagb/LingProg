{
 "cells": [
  {
   "cell_type": "markdown",
   "metadata": {},
   "source": [
    "1 Defina a função soma_nat que recebe como argumento um número natural  n  e devolve a soma de todos os números naturais até  n."
   ]
  },
  {
   "cell_type": "code",
   "execution_count": 2,
   "metadata": {},
   "outputs": [
    {
     "name": "stdout",
     "output_type": "stream",
     "text": [
      "210\n"
     ]
    }
   ],
   "source": [
    "def soma_recursiva(x):\n",
    "    return 1 if x == 1 else x + soma_recursiva(x-1)\n",
    "\n",
    "print(soma_recursiva(20))\n",
    "    "
   ]
  },
  {
   "cell_type": "markdown",
   "metadata": {},
   "source": [
    "2 Defina a função div que recebe como argumentos dois números naturais  m  e  n  e devolve o resultado da divisão inteira de  m  por  n. Neste exercício você não pode recorrer às operações aritméticas de multiplicação, divisão e resto da divisão inteira."
   ]
  },
  {
   "cell_type": "code",
   "execution_count": 1,
   "metadata": {},
   "outputs": [],
   "source": [
    "def div(m, n):\n",
    "    return 1 + div(m - n, n) if m >= n else 0"
   ]
  },
  {
   "cell_type": "code",
   "execution_count": 2,
   "metadata": {},
   "outputs": [],
   "source": [
    "assert(div(7,2) == 3)"
   ]
  },
  {
   "cell_type": "markdown",
   "metadata": {},
   "source": [
    "3.Defina a função prim_alg que recebe como argumento um número natural e devolve o primeiro algarismo (o mais significativo) na representação decimal de  n"
   ]
  },
  {
   "cell_type": "code",
   "execution_count": 3,
   "metadata": {},
   "outputs": [
    {
     "name": "stdout",
     "output_type": "stream",
     "text": [
      "5\n",
      "TESTES\n"
     ]
    }
   ],
   "source": [
    "def prim_alg(n):\n",
    "    if isinstance(n, int) and n >= 0:\n",
    "        ext = str(n)\n",
    "        return ext[0:1]\n",
    "    else:\n",
    "        raise Exception('Digite um número natural!')\n",
    "\n",
    "print(prim_alg(56789))\n",
    "##prim_alg(\"56789\")\n",
    "print('TESTES')\n",
    "assert(prim_alg(56789) == '5')"
   ]
  },
  {
   "cell_type": "markdown",
   "metadata": {},
   "source": [
    "4 Defina a função prod_lista que recebe como argumento uma lista de inteiros e devolve o produto dos seus elementos."
   ]
  },
  {
   "cell_type": "code",
   "execution_count": 4,
   "metadata": {},
   "outputs": [
    {
     "name": "stdout",
     "output_type": "stream",
     "text": [
      "720\n"
     ]
    }
   ],
   "source": [
    "def prod_lista(lista,pos):\n",
    "    return 1 if pos == -1 else lista[pos] * prod_lista(lista,pos-1)\n",
    "lista = [1,2,3,4,5,6]\n",
    "pos = len(lista)-1\n",
    "pos\n",
    "print(prod_lista(lista,pos))"
   ]
  },
  {
   "cell_type": "markdown",
   "metadata": {},
   "source": [
    "5 Defina a função contem_parQ que recebe como argumento uma lista de números inteiros  w e devolve True se w contém um número par e False em caso contrário."
   ]
  },
  {
   "cell_type": "code",
   "execution_count": 5,
   "metadata": {},
   "outputs": [
    {
     "name": "stdout",
     "output_type": "stream",
     "text": [
      "True\n"
     ]
    }
   ],
   "source": [
    "def contem_parQ(lista,pos):\n",
    "    return False if pos == -1 else True if lista[pos] % 2 == 0 else contem_parQ(lista,pos-1)\n",
    "lista = [1,2,5,7]\n",
    "pos = len(lista)-1\n",
    "print(contem_parQ(lista,pos))"
   ]
  },
  {
   "cell_type": "markdown",
   "metadata": {},
   "source": [
    "6.Defina a função todos_imparesQ que recebe como argumento uma lista de números inteiros w e devolve True se  w contém apenas números ímpares e False em caso contrário."
   ]
  },
  {
   "cell_type": "code",
   "execution_count": 1,
   "metadata": {},
   "outputs": [],
   "source": [
    "def todos_imparesQ(w):\n",
    "    return True if len(w) == 0 or (w[len(w) - 1] % 2 != 0 and todos_imparesQ(w[:-1])) else False"
   ]
  },
  {
   "cell_type": "code",
   "execution_count": 2,
   "metadata": {},
   "outputs": [],
   "source": [
    "assert(todos_imparesQ([1,3,5,7]) == True)\n",
    "assert(todos_imparesQ([]) == True)\n",
    "assert(todos_imparesQ([1,2,3,4,5]) == False)"
   ]
  },
  {
   "cell_type": "markdown",
   "metadata": {},
   "source": [
    "7 Defina a função pertenceQ que recebe como argumentos uma lista de números inteiros  w  e um número inteiro  n  e devolve True se  n  ocorre em  w  e False em caso contrário."
   ]
  },
  {
   "cell_type": "code",
   "execution_count": null,
   "metadata": {},
   "outputs": [],
   "source": [
    "def pertenceQ (lista,n,pos):\n",
    "    return False if pos == -1 else True if lista[pos] == n else pertenceQ(lista,n,pos-1)\n",
    "lista = [1,2,3,4,5,6,7,8,9,10]\n",
    "pos =len(lista)-1\n",
    "print(pertenceQ(lista,5,pos))"
   ]
  },
  {
   "cell_type": "markdown",
   "metadata": {},
   "source": [
    " Defina a função junta que recebe como argumentos duas listas de números inteiros  w1  e  w2  e devolve a concatenação de  w1  com  w2 "
   ]
  },
  {
   "cell_type": "code",
   "execution_count": 6,
   "metadata": {},
   "outputs": [
    {
     "name": "stdout",
     "output_type": "stream",
     "text": [
      "[1, 2, 3]\n"
     ]
    }
   ],
   "source": [
    "def junta(w1, w2):\n",
    "    return percorre(w1, w2, 0)\n",
    "\n",
    "def percorre(w1, w2, indice):\n",
    "    return w1 if len(w2) == indice else percorre(w1 , w2, indice + 1)\n",
    "\n",
    "print(junta([1,2,3],[4,5,6]))\n",
    "\n"
   ]
  },
  {
   "cell_type": "markdown",
   "metadata": {},
   "source": [
    "9 - Defina a função temPrimoQ que recebe como argumento uma lista de listas de\n",
    "números inteiros w e devolve True se alguma das sublistas w tem um número\n",
    "primo e False em caso contrário."
   ]
  },
  {
   "cell_type": "code",
   "execution_count": null,
   "metadata": {},
   "outputs": [],
   "source": [
    "def temPrimoQ(w):\n",
    "    return percorreL(w, 0, False)\n",
    "\n",
    "def percorreL(w, i, b):\n",
    "    return b if i == len(w) or b else percorreL(w, i + 1, percorreC(w[i], 0, False))\n",
    "\n",
    "def percorreC(w, i, b):\n",
    "    return b if i == len(w) or b else percorreC(w, i + 1, ePrimo(w[i]))\n",
    "\n",
    "def ePrimo(n):\n",
    "    return True if n % 2 != 0 and n % 3 != 0 and n % 5 != 0 and n % 7 != 0 and n % 11 != 0 or basePrimo(n) else False\n",
    "\n",
    "def basePrimo(n):\n",
    "    return n in [1, 2, 3, 5, 7, 11]\n",
    "\n",
    "print(temPrimoQ([[4,4,4,4],[5,4,6,7],[2,4,3]]))\n",
    "\n",
    "print(temPrimoQ([[4,4,4,4],[4,4,4],[],[4]]))"
   ]
  },
  {
   "cell_type": "markdown",
   "metadata": {},
   "source": [
    "10 - Defina a função inverteLista que recebe como argumento uma lista w e devolve a\n",
    "mesma lista mas invertida."
   ]
  },
  {
   "cell_type": "code",
   "execution_count": 7,
   "metadata": {},
   "outputs": [
    {
     "name": "stdout",
     "output_type": "stream",
     "text": [
      "[5, 4, 3, 2, 1]\n"
     ]
    }
   ],
   "source": [
    "\n",
    "\n",
    "def invertLista(w):\n",
    "    return percorre(w, [], len(w) - 1)\n",
    "\n",
    "def percorre(w1, w2, i):\n",
    "    return w2 if i < 0 else percorre(w1, adiciona(w2, w1[i]), i - 1)\n",
    "\n",
    "\n",
    "def adiciona(w, n):\n",
    "    w.append(n)\n",
    "    return w\n",
    "\n",
    "print(invertLista([1,2,3,4,5]))\n",
    "\n"
   ]
  },
  {
   "cell_type": "code",
   "execution_count": null,
   "metadata": {},
   "outputs": [],
   "source": []
  }
 ],
 "metadata": {
  "kernelspec": {
   "display_name": "Python 3",
   "language": "python",
   "name": "python3"
  },
  "language_info": {
   "codemirror_mode": {
    "name": "ipython",
    "version": 3
   },
   "file_extension": ".py",
   "mimetype": "text/x-python",
   "name": "python",
   "nbconvert_exporter": "python",
   "pygments_lexer": "ipython3",
   "version": "3.7.1"
  }
 },
 "nbformat": 4,
 "nbformat_minor": 2
}
