{
 "cells": [
  {
   "cell_type": "markdown",
   "metadata": {},
   "source": [
    "1 Menor de dois pares: Escreva uma função que retorne o menor de dois números dados se ambos os números forem pares, mas retorna o maior se um dos dois for ímpar. Exemplo:\n",
    "menor_de_dois_pares(2,4) --> 2\n",
    "menor_de_dois_pares (2,5) --> 5"
   ]
  },
  {
   "cell_type": "code",
   "execution_count": 7,
   "metadata": {},
   "outputs": [],
   "source": [
    "def menor_de_dois_pares(num1, num2):\n",
    "    if num1 % 2 == 0 and num2 % 2 == 0:\n",
    "        if num1 < num2:\n",
    "            return num1\n",
    "        else:\n",
    "            return num2\n",
    "    else:\n",
    "        if num1 > num2:\n",
    "            return num1\n",
    "        else:\n",
    "            return num2"
   ]
  },
  {
   "cell_type": "code",
   "execution_count": 8,
   "metadata": {},
   "outputs": [
    {
     "data": {
      "text/plain": [
       "2"
      ]
     },
     "execution_count": 8,
     "metadata": {},
     "output_type": "execute_result"
    }
   ],
   "source": [
    "menor_de_dois_pares(2,4)"
   ]
  },
  {
   "cell_type": "markdown",
   "metadata": {},
   "source": [
    "2 Mesma letra: Escreva uma função que receba uma string com duas palavras e retorne True se ambas palavras começarem com a mesma letra. \n",
    "Exemplo:\n",
    "mesma_letra('Cão covarde') -> True\n",
    "mesma_letra('Vira Lata') -> False"
   ]
  },
  {
   "cell_type": "code",
   "execution_count": 11,
   "metadata": {},
   "outputs": [],
   "source": [
    "def mesma_letra(string):\n",
    "    p1, p2 = string.split()\n",
    "    if p1[0].lower() == p2[0].lower():\n",
    "        return True\n",
    "    else:\n",
    "        return False"
   ]
  },
  {
   "cell_type": "code",
   "execution_count": 12,
   "metadata": {},
   "outputs": [
    {
     "data": {
      "text/plain": [
       "True"
      ]
     },
     "execution_count": 12,
     "metadata": {},
     "output_type": "execute_result"
    }
   ],
   "source": [
    "mesma_letra('Cão covarde')"
   ]
  },
  {
   "cell_type": "code",
   "execution_count": 13,
   "metadata": {},
   "outputs": [
    {
     "data": {
      "text/plain": [
       "False"
      ]
     },
     "execution_count": 13,
     "metadata": {},
     "output_type": "execute_result"
    }
   ],
   "source": [
    "mesma_letra('Vira Lata')"
   ]
  },
  {
   "cell_type": "markdown",
   "metadata": {},
   "source": [
    "3 Mestre Yoda: Dada uma sentença, a função deve retornar a sentença com as palavras na ordem reversa.\n",
    "Exemplo:\n",
    "mestre_yoda('Eu estou em casa') --> 'casa em estou Eu'\n",
    "mestre_yoda('Estamos prontos') --> 'prontos Estamos'"
   ]
  },
  {
   "cell_type": "code",
   "execution_count": 17,
   "metadata": {},
   "outputs": [],
   "source": [
    "def mestre_yoda(string):\n",
    "    palavras = string.split()\n",
    "    palavras.reverse()\n",
    "    yoda = \"\"\n",
    "    for i in range(0, len(palavras) - 1):\n",
    "        palavras[i] = palavras[i] + \" \"\n",
    "    for palavra in palavras:\n",
    "        yoda += palavra\n",
    "    return yoda"
   ]
  },
  {
   "cell_type": "code",
   "execution_count": 19,
   "metadata": {},
   "outputs": [
    {
     "data": {
      "text/plain": [
       "'voltarei Eu'"
      ]
     },
     "execution_count": 19,
     "metadata": {},
     "output_type": "execute_result"
    }
   ],
   "source": [
    "mestre_yoda('Eu voltare')"
   ]
  },
  {
   "cell_type": "markdown",
   "metadata": {},
   "source": [
    "4 Tem 33: Faça uma função que retorne True se, dada uma lista de inteiros, houver em alguma posição da lista um 3 do lado de outro 3. \n",
    "Exemplo:tem_33([1,3,3]) --> True\n",
    "tem_33([1,3,1,3]) --> False\n",
    "tem_33([3,1,3]) --> False"
   ]
  },
  {
   "cell_type": "code",
   "execution_count": 20,
   "metadata": {},
   "outputs": [
    {
     "data": {
      "text/plain": [
       "True"
      ]
     },
     "execution_count": 20,
     "metadata": {},
     "output_type": "execute_result"
    }
   ],
   "source": [
    "def tem_33 (lista):\n",
    "    estado = 'nada'\n",
    "    for n in lista:\n",
    "        if n == 3 and estado == 'nada':\n",
    "            estado = '3'\n",
    "        elif n == 3 and estado == '3':\n",
    "            return True\n",
    "        else:\n",
    "            estado = 'nada'\n",
    "    else:\n",
    "        return False\n",
    "tem_33([1,3,3])"
   ]
  },
  {
   "cell_type": "markdown",
   "metadata": {},
   "source": [
    "5 Blackjack: Faça uma função que receba 3 inteiros entre 1 e 11. Se a soma deles for menor que 21, retorne o valor da soma. Se for mair do que 21 e houver um 11, \n",
    "subtraia 10 da soma antes de apresentar o resultado. Se o valor da soma passar de 21, retorne ‘ESTOUROU’.\n",
    "Exemplo: \n",
    "Exemplo:blackjack(5,6,7) --> 18\n",
    "blackjack(9,9,9) --> 'ESTOUROU'\n",
    "blackjack(9,9,11) --> 19"
   ]
  },
  {
   "cell_type": "code",
   "execution_count": 4,
   "metadata": {},
   "outputs": [
    {
     "data": {
      "text/plain": [
       "19"
      ]
     },
     "execution_count": 4,
     "metadata": {},
     "output_type": "execute_result"
    }
   ],
   "source": [
    "def blackjack(arg1, arg2, arg3):\n",
    "    soma = arg1 + arg2 + arg3\n",
    "    if soma <= 21:\n",
    "        return soma\n",
    "    else:\n",
    "        if arg1 == 11 or arg2 == 11 or arg3 == 11:\n",
    "            soma = soma - 10\n",
    "        if soma > 21:\n",
    "            return 'ESTOROU'\n",
    "        else:\n",
    "            return soma\n",
    "        \n",
    "blackjack(5,6,7)\n",
    "blackjack(9,9,9)\n",
    "blackjack(9,9,11)"
   ]
  },
  {
   "cell_type": "markdown",
   "metadata": {},
   "source": [
    "6 Espião: Escreva uma função que receba uma lista de inteiros e retorne True se contém um 007 em ordem, mesmo que não contínuo. Exemplo:\n",
    "spiao([1,2,4,0,0,7,5]) --> True\n",
    "espiao([1,0,2,4,0,5,7]) --> True\n",
    "espiao([1,7,2,4,0,5,0]) --> False"
   ]
  },
  {
   "cell_type": "code",
   "execution_count": 12,
   "metadata": {},
   "outputs": [
    {
     "name": "stdout",
     "output_type": "stream",
     "text": [
      "Sim, temos um espiao\n"
     ]
    }
   ],
   "source": [
    "def espiao (lista):\n",
    "    estado = 'nada'\n",
    "    for n in lista:\n",
    "        if n == 0 and estado == 'nada':\n",
    "            estado = '0'\n",
    "        elif n == 0  and estado == '0':\n",
    "            estado = '00'\n",
    "        elif n == 7 and estado == '00':\n",
    "            print (\"Sim, temos um espiao\")\n",
    "            break\n",
    "    else:\n",
    "        print (\"tem espiao aqui n palhaço\")\n",
    "espiao([1,2,4,0,0,7,5])"
   ]
  }
 ],
 "metadata": {
  "kernelspec": {
   "display_name": "Python 3",
   "language": "python",
   "name": "python3"
  },
  "language_info": {
   "codemirror_mode": {
    "name": "ipython",
    "version": 3
   },
   "file_extension": ".py",
   "mimetype": "text/x-python",
   "name": "python",
   "nbconvert_exporter": "python",
   "pygments_lexer": "ipython3",
   "version": "3.7.1"
  }
 },
 "nbformat": 4,
 "nbformat_minor": 2
}
